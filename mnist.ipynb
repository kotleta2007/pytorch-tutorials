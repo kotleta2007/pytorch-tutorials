{
 "cells": [
  {
   "cell_type": "code",
   "execution_count": 90,
   "id": "9d715988-a637-40a3-a09a-4a6afd7b8eb5",
   "metadata": {},
   "outputs": [],
   "source": [
    "import torch\n",
    "import torchvision\n",
    "import torch.nn.functional as F\n",
    "import torch.nn as nn\n",
    "\n",
    "import matplotlib.pyplot as plt\n",
    "from tqdm import tqdm"
   ]
  },
  {
   "cell_type": "markdown",
   "id": "98ee097b-013d-48e1-81b1-afecca0f1d50",
   "metadata": {},
   "source": [
    "## Loading the data"
   ]
  },
  {
   "cell_type": "code",
   "execution_count": 76,
   "id": "a8cc9e8a-4e07-4102-8368-8e7927cd541f",
   "metadata": {},
   "outputs": [
    {
     "name": "stdout",
     "output_type": "stream",
     "text": [
      "train_input size: torch.Size([60000, 1, 28, 28])\n",
      "train_target size: torch.Size([60000])\n",
      "test_input size: torch.Size([10000, 1, 28, 28])\n",
      "test_target size: torch.Size([10000])\n",
      "\n",
      "train_input min/max: (0.0, 1.0)\n",
      "train_target min/max: (0, 9)\n",
      "test_input min/max: (0.0, 1.0)\n",
      "test_target min/max: (0, 9)\n"
     ]
    }
   ],
   "source": [
    "data_dir = './data'\n",
    "train_set = torchvision.datasets.MNIST(root=data_dir, train=True, download=True)\n",
    "test_set = torchvision.datasets.MNIST(root=data_dir, train=False, download=True)\n",
    "train_input = train_set.data.view(-1, 1, 28, 28).float().div_(255.0)\n",
    "train_target = train_set.targets\n",
    "test_input = test_set.data.view(-1, 1, 28, 28).float().div_(255.0)\n",
    "test_target = test_set.targets\n",
    "\n",
    "print(f'train_input size: {train_input.size()}')\n",
    "print(f'train_target size: {train_target.size()}')\n",
    "print(f'test_input size: {test_input.size()}')\n",
    "print(f'test_target size: {test_target.size()}')\n",
    "\n",
    "print()\n",
    "\n",
    "print(f'train_input min/max: {train_input.min().item(), train_input.max().item()}')\n",
    "print(f'train_target min/max: {train_target.min().item(), train_target.max().item()}')\n",
    "print(f'test_input min/max: {test_input.min().item(), test_input.max().item()}')\n",
    "print(f'test_target min/max: {test_target.min().item(), test_target.max().item()}')"
   ]
  },
  {
   "cell_type": "markdown",
   "id": "4e00bcf7-de3f-4fe3-87cd-9e115f81f8c5",
   "metadata": {},
   "source": [
    "## Exploratory Data Analysis"
   ]
  },
  {
   "cell_type": "code",
   "execution_count": 78,
   "id": "627d571a-e979-4490-b0dc-46f30a873a22",
   "metadata": {},
   "outputs": [
    {
     "data": {
      "image/png": "[encoded data removed]",
      "text/plain": [
       "<Figure size 640x480 with 12 Axes>"
      ]
     },
     "metadata": {},
     "output_type": "display_data"
    }
   ],
   "source": [
    "N_ROWS = 3\n",
    "N_COLUMNS = 4\n",
    "\n",
    "for i in range(1, N_ROWS * N_COLUMNS+1):\n",
    "    plt.subplot(N_ROWS, N_COLUMNS, i)\n",
    "    plt.axis('off')\n",
    "    \n",
    "    random_idx = torch.randint(len(train_input), size=(1,)).item()\n",
    "    \n",
    "    plt.imshow(train_input[random_idx, 0], cmap='gray')\n",
    "    plt.title(f'True class: {train_target[random_idx]}')"
   ]
  },
  {
   "cell_type": "markdown",
   "id": "8e94dc74-b615-4d5f-a4da-d43b35483407",
   "metadata": {},
   "source": [
    "## The model"
   ]
  },
  {
   "cell_type": "code",
   "execution_count": null,
   "id": "6a746586-9602-4974-a63e-b7379754ae2f",
   "metadata": {},
   "outputs": [],
   "source": [
    "# check slides 5.3"
   ]
  },
  {
   "cell_type": "code",
   "execution_count": 84,
   "id": "01134fe6-72b5-4b76-bc14-3f962b3310e9",
   "metadata": {},
   "outputs": [],
   "source": [
    "class Net(nn.Module):\n",
    "    def __init__(self):\n",
    "        super().__init__()\n",
    "        self.conv1 = nn.Conv2d(1, 32, kernel_size=5)\n",
    "        self.conv2 = nn.Conv2d(32, 64, kernel_size=5)\n",
    "        self.fc1 = nn.Linear(256, 200)\n",
    "        self.fc2 = nn.Linear(200, 10)\n",
    "\n",
    "    def forward(self, x):\n",
    "        x = F.relu(F.max_pool2d(self.conv1(x), kernel_size=3))\n",
    "        x = F.relu(F.max_pool2d(self.conv2(x), kernel_size=2))\n",
    "        x = x.view(x.size(0), -1)\n",
    "        x = F.relu(self.fc1(x))\n",
    "        x = self.fc2(x)\n",
    "        return x"
   ]
  },
  {
   "cell_type": "code",
   "execution_count": 86,
   "id": "75f6f591-90a4-4fa4-bfaa-0c53b78c9218",
   "metadata": {},
   "outputs": [],
   "source": [
    "lr = 1e-1\n",
    "nb_epochs = 10\n",
    "batch_size = 100\n",
    "\n",
    "model = Net()\n",
    "\n",
    "optimizer = torch.optim.SGD(model.parameters(), lr=lr)\n",
    "criterion = nn.CrossEntropyLoss()\n",
    "\n",
    "# model\n",
    "# criterion\n",
    "# train_input, train_targets\n",
    "\n",
    "mu, std = train_input.mean(), train_input.std()\n",
    "train_input.sub_(mu).div_(std);"
   ]
  },
  {
   "cell_type": "code",
   "execution_count": 92,
   "id": "b902065a-6551-4413-abf4-14207a89f0ba",
   "metadata": {},
   "outputs": [
    {
     "name": "stderr",
     "output_type": "stream",
     "text": [
      "100%|██████████| 10/10 [05:20<00:00, 32.09s/it]\n"
     ]
    }
   ],
   "source": [
    "for e in tqdm(range(nb_epochs)):\n",
    "    for input, targets in zip(train_input.split(batch_size),\n",
    "                              train_target.split(batch_size)):\n",
    "        output = model(input)\n",
    "        loss = criterion(output, targets)\n",
    "        optimizer.zero_grad()\n",
    "        loss.backward()\n",
    "        optimizer.step()"
   ]
  },
  {
   "cell_type": "code",
   "execution_count": 93,
   "id": "aef090ab-3ead-4506-984f-2d9c91450fd7",
   "metadata": {},
   "outputs": [],
   "source": [
    "# how to save the model weights?\n",
    "# how to properly evaluate the network?"
   ]
  },
  {
   "cell_type": "code",
   "execution_count": 95,
   "id": "c505dc2b-acdf-4670-b48b-82b548221361",
   "metadata": {},
   "outputs": [],
   "source": [
    "y_pred = model(test_input)"
   ]
  },
  {
   "cell_type": "code",
   "execution_count": 113,
   "id": "e822a583-d641-4be7-9019-46163e77b839",
   "metadata": {},
   "outputs": [
    {
     "data": {
      "text/plain": [
       "0.9894000291824341"
      ]
     },
     "execution_count": 113,
     "metadata": {},
     "output_type": "execute_result"
    }
   ],
   "source": [
    "def evaluate(y_pred, y_true):\n",
    "    return (torch.argmax(y_pred, axis=1) == y_true).float().mean().item()    \n",
    "\n",
    "evaluate(y_pred, test_target)"
   ]
  },
  {
   "cell_type": "code",
   "execution_count": null,
   "id": "9d4148bb-640b-4ddd-8a0e-369e92700ee7",
   "metadata": {},
   "outputs": [],
   "source": []
  },
  {
   "cell_type": "code",
   "execution_count": null,
   "id": "e53d48c4-5d7e-46af-b55d-7341773899c0",
   "metadata": {},
   "outputs": [],
   "source": []
  }
 ],
 "metadata": {
  "kernelspec": {
   "display_name": "Python 3 (ipykernel)",
   "language": "python",
   "name": "python3"
  },
  "language_info": {
   "codemirror_mode": {
    "name": "ipython",
    "version": 3
   },
   "file_extension": ".py",
   "mimetype": "text/x-python",
   "name": "python",
   "nbconvert_exporter": "python",
   "pygments_lexer": "ipython3",
   "version": "3.11.8"
  }
 },
 "nbformat": 4,
 "nbformat_minor": 5
}
